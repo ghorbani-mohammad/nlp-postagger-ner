{
 "cells": [
  {
   "cell_type": "markdown",
   "metadata": {},
   "source": [
    "### کتابخانه های مورد نظر خود را اضافه می کنیم"
   ]
  },
  {
   "cell_type": "code",
   "execution_count": 1,
   "metadata": {
    "ExecuteTime": {
     "end_time": "2019-06-04T17:34:42.058345Z",
     "start_time": "2019-06-04T17:34:00.604019Z"
    }
   },
   "outputs": [],
   "source": [
    "import os\n",
    "import nltk\n",
    "from nltk.tag.stanford import StanfordNERTagger\n",
    "\n",
    "import re\n",
    "from sklearn.metrics import accuracy_score\n",
    "from sklearn.metrics import precision_recall_fscore_support\n",
    "from sklearn.metrics import confusion_matrix\n",
    "import pandas as pd\n",
    "import numpy as np"
   ]
  },
  {
   "cell_type": "markdown",
   "metadata": {},
   "source": [
    "### ما مدل را از قبل بوسیله جاوا آماده کردیم و فقط در اینجا از آن استفاده می کنیم"
   ]
  },
  {
   "cell_type": "code",
   "execution_count": 2,
   "metadata": {
    "ExecuteTime": {
     "end_time": "2019-06-04T17:34:44.015644Z",
     "start_time": "2019-06-04T17:34:44.011665Z"
    },
    "scrolled": true
   },
   "outputs": [],
   "source": [
    "os.environ['JAVAHOME'] = \"C:/Program Files/Java/jre1.8.0_221/bin/java.exe\"\n",
    "\n",
    "jar = 'stanford-ner.jar'\n",
    "model = 'trained_model.ser.gz'\n",
    "\n",
    "ner_tagger = StanfordNERTagger(model, jar, encoding='utf8')"
   ]
  },
  {
   "cell_type": "markdown",
   "metadata": {},
   "source": [
    "### فایل تست را میخوانیم و با استفاده از مدل ایجاد شده، لیبل های آنها را پیش بینی می کنیم"
   ]
  },
  {
   "cell_type": "code",
   "execution_count": 3,
   "metadata": {
    "ExecuteTime": {
     "end_time": "2019-06-04T17:34:51.159155Z",
     "start_time": "2019-06-04T17:34:45.533615Z"
    }
   },
   "outputs": [],
   "source": [
    "test_docs = [line.rstrip('\\n') for line in open('Data/NERte.txt', encoding=\"utf8\")]\n",
    "\n",
    "true_labels = []\n",
    "words = []\n",
    "for i, doc in enumerate(test_docs):\n",
    "    word = re.split(r'\\t+', doc)\n",
    "    if(word[0] != \"\"):\n",
    "        words.append(word[0])\n",
    "        true_labels.append(word[1])\n",
    "        \n",
    "        \n",
    "predicts = ner_tagger.tag(words)\n",
    "pred_labels = []\n",
    "for element1, element2 in predicts:\n",
    "    pred_labels.append(element2)"
   ]
  },
  {
   "cell_type": "code",
   "execution_count": 4,
   "metadata": {
    "ExecuteTime": {
     "end_time": "2019-06-04T17:34:53.114059Z",
     "start_time": "2019-06-04T17:34:53.099594Z"
    }
   },
   "outputs": [],
   "source": [
    "entity_counter = 0\n",
    "all_entities_start_end_labels = []\n",
    "for i, label in enumerate(true_labels[:]):\n",
    "    if label != 'O':\n",
    "        label_start_end = []\n",
    "        label_start_end.append(true_labels[i])\n",
    "        entity_counter += 1\n",
    "        label_start_end.append(i)\n",
    "        current_label = label\n",
    "        j = i\n",
    "        while current_label == label:\n",
    "            j += 1\n",
    "            current_label = true_labels[j]\n",
    "        label_start_end.append(j)\n",
    "        i = j\n",
    "        \n",
    "        all_entities_start_end_labels.append(label_start_end)\n",
    "        \n",
    "entity_counter_pred = 0\n",
    "for i, label in enumerate(pred_labels[:]):\n",
    "    if label != 'O':\n",
    "        entity_counter_pred += 1\n",
    "        current_label = label\n",
    "        j = i\n",
    "        while current_label == label:\n",
    "            j += 1\n",
    "            current_label = pred_labels[j]\n",
    "        i = j"
   ]
  },
  {
   "cell_type": "markdown",
   "metadata": {},
   "source": [
    "### دقت و ریکال را به صورت زیر بدست آوردیم"
   ]
  },
  {
   "cell_type": "code",
   "execution_count": 5,
   "metadata": {
    "ExecuteTime": {
     "end_time": "2019-06-04T17:34:54.746283Z",
     "start_time": "2019-06-04T17:34:54.739282Z"
    },
    "scrolled": true
   },
   "outputs": [
    {
     "name": "stdout",
     "output_type": "stream",
     "text": [
      "Our Precision is: 0.672972972972973\n",
      "Our Recall is: 0.21899736147757257\n"
     ]
    }
   ],
   "source": [
    "true_match_counter = 0\n",
    "for i, element in enumerate(all_entities_start_end_labels):\n",
    "    start = element[1]\n",
    "    end = element[2]\n",
    "    match = True\n",
    "    for j in range(start, end):\n",
    "        if element[0] != pred_labels[j]:\n",
    "            match = False\n",
    "    if match == True:\n",
    "        true_match_counter += 1\n",
    "        \n",
    "print(\"Our Precision is: \"+str(true_match_counter/entity_counter_pred))\n",
    "print(\"Our Recall is: \" + str(true_match_counter/entity_counter))"
   ]
  },
  {
   "cell_type": "markdown",
   "metadata": {},
   "source": [
    "### ماتریس سرگشتگی را به صورت زیر به دست آوردیم"
   ]
  },
  {
   "cell_type": "code",
   "execution_count": 6,
   "metadata": {
    "ExecuteTime": {
     "end_time": "2019-06-04T17:34:58.676020Z",
     "start_time": "2019-06-04T17:34:58.570562Z"
    }
   },
   "outputs": [
    {
     "data": {
      "text/html": [
       "<div>\n",
       "<style scoped>\n",
       "    .dataframe tbody tr th:only-of-type {\n",
       "        vertical-align: middle;\n",
       "    }\n",
       "\n",
       "    .dataframe tbody tr th {\n",
       "        vertical-align: top;\n",
       "    }\n",
       "\n",
       "    .dataframe thead th {\n",
       "        text-align: right;\n",
       "    }\n",
       "</style>\n",
       "<table border=\"1\" class=\"dataframe\">\n",
       "  <thead>\n",
       "    <tr style=\"text-align: right;\">\n",
       "      <th></th>\n",
       "      <th>other</th>\n",
       "      <th>person</th>\n",
       "      <th>O</th>\n",
       "      <th>movie</th>\n",
       "      <th>facility</th>\n",
       "      <th>geo-loc</th>\n",
       "      <th>tvshow</th>\n",
       "      <th>musicartist</th>\n",
       "      <th>sportsteam</th>\n",
       "      <th>company</th>\n",
       "      <th>product</th>\n",
       "    </tr>\n",
       "  </thead>\n",
       "  <tbody>\n",
       "    <tr>\n",
       "      <th>other</th>\n",
       "      <td>0.122222</td>\n",
       "      <td>0.018519</td>\n",
       "      <td>0.848148</td>\n",
       "      <td>0.000000</td>\n",
       "      <td>0.000000</td>\n",
       "      <td>0.011111</td>\n",
       "      <td>0.000000</td>\n",
       "      <td>0.000000</td>\n",
       "      <td>0.000000</td>\n",
       "      <td>0.00000</td>\n",
       "      <td>0.000000</td>\n",
       "    </tr>\n",
       "    <tr>\n",
       "      <th>person</th>\n",
       "      <td>0.015038</td>\n",
       "      <td>0.421053</td>\n",
       "      <td>0.556391</td>\n",
       "      <td>0.000000</td>\n",
       "      <td>0.000000</td>\n",
       "      <td>0.007519</td>\n",
       "      <td>0.000000</td>\n",
       "      <td>0.000000</td>\n",
       "      <td>0.000000</td>\n",
       "      <td>0.00000</td>\n",
       "      <td>0.000000</td>\n",
       "    </tr>\n",
       "    <tr>\n",
       "      <th>O</th>\n",
       "      <td>0.001200</td>\n",
       "      <td>0.000991</td>\n",
       "      <td>0.997131</td>\n",
       "      <td>0.000104</td>\n",
       "      <td>0.000209</td>\n",
       "      <td>0.000261</td>\n",
       "      <td>0.000000</td>\n",
       "      <td>0.000000</td>\n",
       "      <td>0.000052</td>\n",
       "      <td>0.00000</td>\n",
       "      <td>0.000052</td>\n",
       "    </tr>\n",
       "    <tr>\n",
       "      <th>movie</th>\n",
       "      <td>0.000000</td>\n",
       "      <td>0.000000</td>\n",
       "      <td>0.842105</td>\n",
       "      <td>0.157895</td>\n",
       "      <td>0.000000</td>\n",
       "      <td>0.000000</td>\n",
       "      <td>0.000000</td>\n",
       "      <td>0.000000</td>\n",
       "      <td>0.000000</td>\n",
       "      <td>0.00000</td>\n",
       "      <td>0.000000</td>\n",
       "    </tr>\n",
       "    <tr>\n",
       "      <th>facility</th>\n",
       "      <td>0.029126</td>\n",
       "      <td>0.019417</td>\n",
       "      <td>0.631068</td>\n",
       "      <td>0.000000</td>\n",
       "      <td>0.310680</td>\n",
       "      <td>0.009709</td>\n",
       "      <td>0.000000</td>\n",
       "      <td>0.000000</td>\n",
       "      <td>0.000000</td>\n",
       "      <td>0.00000</td>\n",
       "      <td>0.000000</td>\n",
       "    </tr>\n",
       "    <tr>\n",
       "      <th>geo-loc</th>\n",
       "      <td>0.000000</td>\n",
       "      <td>0.052288</td>\n",
       "      <td>0.627451</td>\n",
       "      <td>0.000000</td>\n",
       "      <td>0.065359</td>\n",
       "      <td>0.254902</td>\n",
       "      <td>0.000000</td>\n",
       "      <td>0.000000</td>\n",
       "      <td>0.000000</td>\n",
       "      <td>0.00000</td>\n",
       "      <td>0.000000</td>\n",
       "    </tr>\n",
       "    <tr>\n",
       "      <th>tvshow</th>\n",
       "      <td>0.000000</td>\n",
       "      <td>0.043478</td>\n",
       "      <td>0.869565</td>\n",
       "      <td>0.000000</td>\n",
       "      <td>0.000000</td>\n",
       "      <td>0.000000</td>\n",
       "      <td>0.086957</td>\n",
       "      <td>0.000000</td>\n",
       "      <td>0.000000</td>\n",
       "      <td>0.00000</td>\n",
       "      <td>0.000000</td>\n",
       "    </tr>\n",
       "    <tr>\n",
       "      <th>musicartist</th>\n",
       "      <td>0.000000</td>\n",
       "      <td>0.027397</td>\n",
       "      <td>0.917808</td>\n",
       "      <td>0.000000</td>\n",
       "      <td>0.000000</td>\n",
       "      <td>0.000000</td>\n",
       "      <td>0.000000</td>\n",
       "      <td>0.054795</td>\n",
       "      <td>0.000000</td>\n",
       "      <td>0.00000</td>\n",
       "      <td>0.000000</td>\n",
       "    </tr>\n",
       "    <tr>\n",
       "      <th>sportsteam</th>\n",
       "      <td>0.000000</td>\n",
       "      <td>0.000000</td>\n",
       "      <td>0.789474</td>\n",
       "      <td>0.000000</td>\n",
       "      <td>0.000000</td>\n",
       "      <td>0.052632</td>\n",
       "      <td>0.000000</td>\n",
       "      <td>0.000000</td>\n",
       "      <td>0.157895</td>\n",
       "      <td>0.00000</td>\n",
       "      <td>0.000000</td>\n",
       "    </tr>\n",
       "    <tr>\n",
       "      <th>company</th>\n",
       "      <td>0.000000</td>\n",
       "      <td>0.023256</td>\n",
       "      <td>0.720930</td>\n",
       "      <td>0.000000</td>\n",
       "      <td>0.034884</td>\n",
       "      <td>0.000000</td>\n",
       "      <td>0.000000</td>\n",
       "      <td>0.000000</td>\n",
       "      <td>0.000000</td>\n",
       "      <td>0.22093</td>\n",
       "      <td>0.000000</td>\n",
       "    </tr>\n",
       "    <tr>\n",
       "      <th>product</th>\n",
       "      <td>0.075472</td>\n",
       "      <td>0.075472</td>\n",
       "      <td>0.830189</td>\n",
       "      <td>0.000000</td>\n",
       "      <td>0.000000</td>\n",
       "      <td>0.000000</td>\n",
       "      <td>0.000000</td>\n",
       "      <td>0.000000</td>\n",
       "      <td>0.000000</td>\n",
       "      <td>0.00000</td>\n",
       "      <td>0.018868</td>\n",
       "    </tr>\n",
       "  </tbody>\n",
       "</table>\n",
       "</div>"
      ],
      "text/plain": [
       "                other    person         O     movie  facility   geo-loc  \\\n",
       "other        0.122222  0.018519  0.848148  0.000000  0.000000  0.011111   \n",
       "person       0.015038  0.421053  0.556391  0.000000  0.000000  0.007519   \n",
       "O            0.001200  0.000991  0.997131  0.000104  0.000209  0.000261   \n",
       "movie        0.000000  0.000000  0.842105  0.157895  0.000000  0.000000   \n",
       "facility     0.029126  0.019417  0.631068  0.000000  0.310680  0.009709   \n",
       "geo-loc      0.000000  0.052288  0.627451  0.000000  0.065359  0.254902   \n",
       "tvshow       0.000000  0.043478  0.869565  0.000000  0.000000  0.000000   \n",
       "musicartist  0.000000  0.027397  0.917808  0.000000  0.000000  0.000000   \n",
       "sportsteam   0.000000  0.000000  0.789474  0.000000  0.000000  0.052632   \n",
       "company      0.000000  0.023256  0.720930  0.000000  0.034884  0.000000   \n",
       "product      0.075472  0.075472  0.830189  0.000000  0.000000  0.000000   \n",
       "\n",
       "               tvshow  musicartist  sportsteam  company   product  \n",
       "other        0.000000     0.000000    0.000000  0.00000  0.000000  \n",
       "person       0.000000     0.000000    0.000000  0.00000  0.000000  \n",
       "O            0.000000     0.000000    0.000052  0.00000  0.000052  \n",
       "movie        0.000000     0.000000    0.000000  0.00000  0.000000  \n",
       "facility     0.000000     0.000000    0.000000  0.00000  0.000000  \n",
       "geo-loc      0.000000     0.000000    0.000000  0.00000  0.000000  \n",
       "tvshow       0.086957     0.000000    0.000000  0.00000  0.000000  \n",
       "musicartist  0.000000     0.054795    0.000000  0.00000  0.000000  \n",
       "sportsteam   0.000000     0.000000    0.157895  0.00000  0.000000  \n",
       "company      0.000000     0.000000    0.000000  0.22093  0.000000  \n",
       "product      0.000000     0.000000    0.000000  0.00000  0.018868  "
      ]
     },
     "execution_count": 6,
     "metadata": {},
     "output_type": "execute_result"
    }
   ],
   "source": [
    "all_true_labels = list(set(true_labels))\n",
    "\n",
    "cm = confusion_matrix(true_labels, pred_labels, labels=all_true_labels)\n",
    "\n",
    "#Normalization\n",
    "np.set_printoptions(suppress=True)\n",
    "cm = cm.astype('float') / cm.sum(axis=1)[:, np.newaxis]\n",
    "\n",
    "df = pd.DataFrame(cm, columns=all_true_labels, index=all_true_labels)\n",
    "df"
   ]
  },
  {
   "cell_type": "markdown",
   "metadata": {},
   "source": [
    "### همانطور که در زیر مشاهده می شود بیشترین خطا به دلیل استفاده از لیبل\n",
    "### O\n",
    "### به جای لیبل \n",
    "### musicartist, tvshow, other \n",
    "### می باشد"
   ]
  },
  {
   "cell_type": "code",
   "execution_count": 7,
   "metadata": {
    "ExecuteTime": {
     "end_time": "2019-06-04T17:35:03.244049Z",
     "start_time": "2019-06-04T17:35:03.227090Z"
    }
   },
   "outputs": [
    {
     "name": "stdout",
     "output_type": "stream",
     "text": [
      "('musicartist,O', 0.9178082191780822)\n",
      "('tvshow,O', 0.8695652173913043)\n",
      "('other,O', 0.8481481481481481)\n",
      "('movie,O', 0.8421052631578947)\n",
      "('product,O', 0.8301886792452831)\n",
      "('sportsteam,O', 0.7894736842105263)\n",
      "('company,O', 0.7209302325581395)\n",
      "('facility,O', 0.6310679611650486)\n",
      "('geo-loc,O', 0.6274509803921569)\n",
      "('person,O', 0.556390977443609)\n"
     ]
    }
   ],
   "source": [
    "non_diagonal_values = []\n",
    "non_diagonal_labels = []\n",
    "for i in range(len(cm)):\n",
    "    for j in range(len(cm)):\n",
    "        if j == i:\n",
    "            continue\n",
    "        else:   \n",
    "            non_diagonal_labels.append(tuple([str(all_true_labels[i])+\",\"+str(all_true_labels[j]),cm[i][j]]))\n",
    "            non_diagonal_values.append(cm[i][j])\n",
    "            \n",
    "sorted_list_of_non_diagonal = np.flipud(np.argsort(non_diagonal_values))\n",
    "\n",
    "for i in range(len(sorted_list_of_non_diagonal[:10])):\n",
    "    print(non_diagonal_labels[sorted_list_of_non_diagonal[i]])"
   ]
  },
  {
   "cell_type": "code",
   "execution_count": null,
   "metadata": {},
   "outputs": [],
   "source": []
  }
 ],
 "metadata": {
  "kernelspec": {
   "display_name": "Python 3",
   "language": "python",
   "name": "python3"
  },
  "language_info": {
   "codemirror_mode": {
    "name": "ipython",
    "version": 3
   },
   "file_extension": ".py",
   "mimetype": "text/x-python",
   "name": "python",
   "nbconvert_exporter": "python",
   "pygments_lexer": "ipython3",
   "version": "3.7.3"
  },
  "toc": {
   "base_numbering": 1,
   "nav_menu": {},
   "number_sections": true,
   "sideBar": true,
   "skip_h1_title": false,
   "title_cell": "Table of Contents",
   "title_sidebar": "Contents",
   "toc_cell": false,
   "toc_position": {},
   "toc_section_display": true,
   "toc_window_display": false
  },
  "varInspector": {
   "cols": {
    "lenName": 16,
    "lenType": 16,
    "lenVar": 40
   },
   "kernels_config": {
    "python": {
     "delete_cmd_postfix": "",
     "delete_cmd_prefix": "del ",
     "library": "var_list.py",
     "varRefreshCmd": "print(var_dic_list())"
    },
    "r": {
     "delete_cmd_postfix": ") ",
     "delete_cmd_prefix": "rm(",
     "library": "var_list.r",
     "varRefreshCmd": "cat(var_dic_list()) "
    }
   },
   "types_to_exclude": [
    "module",
    "function",
    "builtin_function_or_method",
    "instance",
    "_Feature"
   ],
   "window_display": false
  }
 },
 "nbformat": 4,
 "nbformat_minor": 2
}
